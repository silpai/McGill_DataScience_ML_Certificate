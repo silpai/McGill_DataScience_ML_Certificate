{
 "cells": [
  {
   "cell_type": "markdown",
   "metadata": {
    "colab_type": "text",
    "id": "x7-bW60Eb151"
   },
   "source": [
    "## Prediction \n",
    "In this exercise you will create some simulated data and will fit simple\n",
    "linear regression models.\n",
    "  \n",
    "  1. Create a vector `x` containing $100$ observations drawn from a $\\mathcal{N}(0, 1)$ distribution as your feature. \n",
    "  2. Create a vector, `eps` (for $\\epsilon$), containing $100$ observations drawn from a $\\mathcal{N}(0, 0.25)$. \n",
    "  3. Using `x` and `eps` generate a vector `y` according to the model $y = −1 + 0.5x + \\epsilon$.\n",
    "  4. Create a scatterplot displaying the relationship between `x` and `y`.\n",
    "  5. Fit a least squares linear model to predict `y` using `x` \n",
    "  6. Display the least squares line on the scatterplot \n"
   ]
  },
  {
   "cell_type": "code",
   "execution_count": 1,
   "metadata": {},
   "outputs": [],
   "source": [
    "\n",
    "import numpy as np\n",
    "import seaborn as sns\n",
    "import matplotlib.pyplot as plt\n",
    "import pandas as pd\n",
    "from sklearn.linear_model import LinearRegression # Fit the model with sklearn package\n",
    "\n",
    "import warnings\n",
    "warnings.filterwarnings(\"ignore\")\n",
    "\n",
    "np.random.seed(111)\n",
    "\n",
    "# The following piece of code gives the opportunity to show multiple outputs\n",
    "# in one cell:\n",
    "from IPython.core.interactiveshell import InteractiveShell\n",
    "InteractiveShell.ast_node_interactivity = \"all\"\n"
   ]
  },
  {
   "cell_type": "code",
   "execution_count": 2,
   "metadata": {},
   "outputs": [
    {
     "data": {
      "text/plain": [
       "array([-1.13383833,  0.38431919,  1.49655378, -0.3553823 , -0.78753354,\n",
       "       -0.45943891, -0.05916877, -0.3541735 , -0.73552305, -1.18393989,\n",
       "        0.23889413, -0.58992026, -1.44058512,  0.77370311, -1.02796733,\n",
       "       -0.09098625,  0.492003  ,  0.4246722 ,  1.28304882,  0.31598645,\n",
       "       -0.4080822 , -0.06794759, -0.95242666, -0.1106774 ,  0.57059429,\n",
       "        0.91542017, -1.66934051,  0.48271364, -0.31047267,  2.39468973,\n",
       "        1.55093092, -0.64646518, -0.92893724, -1.65497614,  0.3501925 ,\n",
       "       -0.14175652,  0.52108179, -0.02090086, -1.74384395, -0.79915888,\n",
       "       -1.30357043,  0.178105  , -0.33440236, -0.30602713, -0.33240557,\n",
       "        1.96294734,  0.71924249,  1.14288651,  2.08287697, -1.28464775,\n",
       "        0.53812761, -0.04453941,  2.59716437, -0.05826628, -0.945287  ,\n",
       "        0.54117239, -0.05500889,  1.12002081, -0.19164295, -0.61013842,\n",
       "       -0.44457885, -2.2040093 , -0.43067048, -0.42509346,  0.14729199,\n",
       "        0.42492427,  0.34725774, -0.27623555, -1.20229562,  1.0310233 ,\n",
       "        0.72331895,  1.43277873,  0.60950687, -0.58415554, -0.15787497,\n",
       "       -0.36295316,  0.26806865,  0.62198742,  0.23816937, -0.74918356,\n",
       "       -0.27898145,  0.70162215,  0.59934453,  0.2154077 ,  1.29986666,\n",
       "       -0.603634  ,  0.25224381,  0.83151679, -0.3691887 , -1.02993616,\n",
       "       -0.64758224,  2.14926711, -2.13702345,  0.46641893, -0.30885458,\n",
       "        2.10312245, -1.05039732, -0.12711363, -1.58413055, -0.61107444])"
      ]
     },
     "execution_count": 2,
     "metadata": {},
     "output_type": "execute_result"
    }
   ],
   "source": [
    "# Create a vector x containing  100  observations drawn from a  N(0,1) distribution as your feature\n",
    "mu=0\n",
    "sigma=1\n",
    "n=100\n",
    "x=np.random.normal(loc=mu,scale=sigma,size=n)\n",
    "x"
   ]
  },
  {
   "cell_type": "code",
   "execution_count": 13,
   "metadata": {},
   "outputs": [
    {
     "data": {
      "text/plain": [
       "array([ 0.02592985, -0.00837732,  0.1691131 , -0.26306215, -0.34299114,\n",
       "        0.11141566, -0.40910399, -0.15201426, -0.04328481, -0.23140208,\n",
       "        0.22816445,  0.31398852,  0.0561165 , -0.12010492,  0.11569709,\n",
       "       -0.0675729 , -0.09592357,  0.3029669 , -0.12231095,  0.12963722,\n",
       "       -0.63331606,  0.16298728, -0.25788399,  0.00069292,  0.30638844,\n",
       "        0.01107153,  0.04364773, -0.14102233, -0.02166366,  0.09901274,\n",
       "       -0.28457235,  0.15927284,  0.19566698,  0.33007166, -0.0405533 ,\n",
       "       -0.41547892,  0.15760076, -0.09926245, -0.17178238, -0.24332288,\n",
       "       -0.37845021, -0.00233985,  0.43920325,  0.07154248,  0.2416987 ,\n",
       "        0.11525579, -0.31615171, -0.47883758, -0.03035118,  0.32135386,\n",
       "       -0.24540477, -0.06816715, -0.05843887, -0.07590927,  0.03744467,\n",
       "        0.0215593 , -0.18422036, -0.55791718,  0.04981818,  0.0591383 ,\n",
       "        0.0967698 ,  0.61547971,  0.3281638 ,  0.09772849, -0.10924962,\n",
       "       -0.11398881, -0.50676079,  0.1800657 , -0.01188587,  0.21178662,\n",
       "        0.22204398, -0.17860497,  0.31735677, -0.11349835, -0.20081114,\n",
       "       -0.03212048, -0.00754426, -0.0534155 ,  0.04913009,  0.52627601,\n",
       "       -0.05796556,  0.67340139,  0.20502589,  0.17036471, -0.10492046,\n",
       "        0.07917646,  0.091205  ,  0.04164898,  0.22988585,  0.4230981 ,\n",
       "       -0.16097769, -0.05991382, -0.07403765,  0.01217731,  0.52085666,\n",
       "        0.2058742 , -0.23614678,  0.12789715, -0.34122021,  0.089435  ])"
      ]
     },
     "execution_count": 13,
     "metadata": {},
     "output_type": "execute_result"
    }
   ],
   "source": [
    "# Create a vector, eps (for 𝜖 ), containing 100 observations drawn from a  N(0,0.25)\n",
    "mu=0\n",
    "sigma=0.25\n",
    "n=100\n",
    "esp=np.random.normal(loc=mu,scale=sigma,size=n)\n",
    "esp"
   ]
  },
  {
   "cell_type": "code",
   "execution_count": 14,
   "metadata": {},
   "outputs": [
    {
     "data": {
      "text/plain": [
       "array([-1.54098932, -0.81621773, -0.08261001, -1.4407533 , -1.73675791,\n",
       "       -1.11830379, -1.43868838, -1.32910101, -1.41104634, -1.82337202,\n",
       "       -0.65238848, -0.98097161, -1.66417606, -0.73325337, -1.39828658,\n",
       "       -1.11306603, -0.84992207, -0.484697  , -0.48078654, -0.71236955,\n",
       "       -1.83735716, -0.87098652, -1.73409732, -1.05464578, -0.40831441,\n",
       "       -0.53121838, -1.79102253, -0.89966551, -1.1769    ,  0.29635761,\n",
       "       -0.50910689, -1.16395975, -1.26880163, -1.49741642, -0.86545705,\n",
       "       -1.48635718, -0.58185835, -1.10971288, -2.04370435, -1.64290231,\n",
       "       -2.03023543, -0.91328735, -0.72799793, -1.08147109, -0.92450409,\n",
       "        0.09672946, -0.95653046, -0.90739432,  0.01108731, -1.32097001,\n",
       "       -0.97634096, -1.09043686,  0.24014331, -1.10504242, -1.43519883,\n",
       "       -0.7078545 , -1.2117248 , -0.99790678, -1.04600329, -1.24593091,\n",
       "       -1.12551962, -1.48652494, -0.88717144, -1.11481824, -1.03560362,\n",
       "       -0.90152668, -1.33313192, -0.95805207, -1.61303368, -0.27270173,\n",
       "       -0.41629654, -0.4622156 , -0.37788979, -1.40557612, -1.27974863,\n",
       "       -1.21359706, -0.87350993, -0.74242179, -0.83178522, -0.84831577,\n",
       "       -1.19745628,  0.02421246, -0.49530185, -0.72193144, -0.45498713,\n",
       "       -1.22264054, -0.78267309, -0.54259263, -0.9547085 , -1.09186998,\n",
       "       -1.48476881,  0.01471973, -2.14254938, -0.75461322, -0.63357063,\n",
       "        0.25743543, -1.76134544, -0.93565967, -2.13328549, -1.21610222])"
      ]
     },
     "execution_count": 14,
     "metadata": {},
     "output_type": "execute_result"
    }
   ],
   "source": [
    "#Calculate 𝑦=−1+0.5𝑥+𝜖 \n",
    "y=-1 +(0.5*x)+esp\n",
    "y\n"
   ]
  },
  {
   "cell_type": "code",
   "execution_count": 15,
   "metadata": {},
   "outputs": [
    {
     "data": {
      "image/png": "[encoded data removed]",
      "text/plain": [
       "<Figure size 720x432 with 1 Axes>"
      ]
     },
     "metadata": {
      "needs_background": "light"
     },
     "output_type": "display_data"
    }
   ],
   "source": [
    "# Create a scatterplot displaying the relationship between x and y\n",
    "fig, ax = plt.subplots(figsize=(10, 6))\n",
    "_ = sns.scatterplot(x,y)\n",
    "_ = ax.set_title('Scatterplot: y=−1+0.5x+esp', fontsize=14)\n",
    "_ = ax.set_ylabel('y', fontsize=12)\n",
    "_ = ax.set_xlabel('x', fontsize=12)\n",
    "plt.show()"
   ]
  },
  {
   "cell_type": "markdown",
   "metadata": {},
   "source": [
    "This is a positive linear relationship;as x increases y also increases."
   ]
  },
  {
   "cell_type": "code",
   "execution_count": 16,
   "metadata": {},
   "outputs": [
    {
     "data": {
      "text/html": [
       "<div>\n",
       "<style scoped>\n",
       "    .dataframe tbody tr th:only-of-type {\n",
       "        vertical-align: middle;\n",
       "    }\n",
       "\n",
       "    .dataframe tbody tr th {\n",
       "        vertical-align: top;\n",
       "    }\n",
       "\n",
       "    .dataframe thead th {\n",
       "        text-align: right;\n",
       "    }\n",
       "</style>\n",
       "<table border=\"1\" class=\"dataframe\">\n",
       "  <thead>\n",
       "    <tr style=\"text-align: right;\">\n",
       "      <th></th>\n",
       "      <th>x</th>\n",
       "      <th>y</th>\n",
       "    </tr>\n",
       "  </thead>\n",
       "  <tbody>\n",
       "    <tr>\n",
       "      <th>0</th>\n",
       "      <td>-1.133838</td>\n",
       "      <td>-1.540989</td>\n",
       "    </tr>\n",
       "    <tr>\n",
       "      <th>1</th>\n",
       "      <td>0.384319</td>\n",
       "      <td>-0.816218</td>\n",
       "    </tr>\n",
       "    <tr>\n",
       "      <th>2</th>\n",
       "      <td>1.496554</td>\n",
       "      <td>-0.082610</td>\n",
       "    </tr>\n",
       "    <tr>\n",
       "      <th>3</th>\n",
       "      <td>-0.355382</td>\n",
       "      <td>-1.440753</td>\n",
       "    </tr>\n",
       "    <tr>\n",
       "      <th>4</th>\n",
       "      <td>-0.787534</td>\n",
       "      <td>-1.736758</td>\n",
       "    </tr>\n",
       "  </tbody>\n",
       "</table>\n",
       "</div>"
      ],
      "text/plain": [
       "          x         y\n",
       "0 -1.133838 -1.540989\n",
       "1  0.384319 -0.816218\n",
       "2  1.496554 -0.082610\n",
       "3 -0.355382 -1.440753\n",
       "4 -0.787534 -1.736758"
      ]
     },
     "execution_count": 16,
     "metadata": {},
     "output_type": "execute_result"
    },
    {
     "data": {
      "text/plain": [
       "LinearRegression()"
      ]
     },
     "execution_count": 16,
     "metadata": {},
     "output_type": "execute_result"
    },
    {
     "name": "stdout",
     "output_type": "stream",
     "text": [
      "intercept =  [-0.99156206]\n",
      "slope =  [[0.48035763]]\n",
      "r-squared:  0.787\n"
     ]
    }
   ],
   "source": [
    "# Fit a least squares linear model to predict y using x\n",
    "\n",
    "#create a dataframe of the random values\n",
    "d_ = {'x': x,'y': y}\n",
    "df = pd.DataFrame(data=d_)\n",
    "df.head()\n",
    "\n",
    "X=df[[\"x\"]].values\n",
    "y=df[[\"y\"]].values\n",
    "\n",
    "\n",
    "lr = LinearRegression() \n",
    "lr.fit(X, y)\n",
    "intercept=lr.intercept_\n",
    "print(\"intercept = \",intercept)\n",
    "slope=lr.coef_\n",
    "print(\"slope = \",slope)\n",
    "# Returns the R^2 which gives an idea about the goodness of fit:\n",
    "r_2=round(lr.score(X, y),3)\n",
    "print(\"r-squared: \", r_2)\n",
    "\n",
    "y_pred=lr.predict(X)"
   ]
  },
  {
   "cell_type": "markdown",
   "metadata": {},
   "source": [
    "The model **intercept βo**= -0.99  and **slope β1**= 0.48 of Q3.5 results were practically equal to βo =-1  and β1 =0.5 of the  given 𝑦=−1+0.5𝑥+𝜖. \n",
    "\n",
    "The Q3.5 **R-squared** = 0.78 shows that the model fits the data well (78.7%) but could be better."
   ]
  },
  {
   "cell_type": "code",
   "execution_count": 19,
   "metadata": {},
   "outputs": [
    {
     "data": {
      "image/png": "[encoded data removed]",
      "text/plain": [
       "<Figure size 432x288 with 1 Axes>"
      ]
     },
     "metadata": {
      "needs_background": "light"
     },
     "output_type": "display_data"
    }
   ],
   "source": [
    "# Plot regression line\n",
    "_=plt.scatter(X, y, label='Random sample data')\n",
    "_=plt.plot(X, y_pred, color='red', linewidth=3, label='Regression model')\n",
    "_=plt.title('y=−0.99+0.48x, $R^2= %.3f$' % r_2, fontsize=18)\n",
    "_=plt.legend(loc=\"upper left\")\n",
    "_=plt.xlabel('x')\n",
    "_=plt.ylabel('y')\n",
    "_=plt.show()"
   ]
  },
  {
   "cell_type": "code",
   "execution_count": 22,
   "metadata": {},
   "outputs": [
    {
     "data": {
      "text/plain": [
       "array([ 0.02592985, -0.00837732,  0.1691131 , -0.26306215, -0.34299114,\n",
       "        0.11141566, -0.40910399, -0.15201426, -0.04328481, -0.23140208,\n",
       "        0.22816445,  0.31398852,  0.0561165 , -0.12010492,  0.11569709,\n",
       "       -0.0675729 , -0.09592357,  0.3029669 , -0.12231095,  0.12963722,\n",
       "       -0.63331606,  0.16298728, -0.25788399,  0.00069292,  0.30638844,\n",
       "        0.01107153,  0.04364773, -0.14102233, -0.02166366,  0.09901274,\n",
       "       -0.28457235,  0.15927284,  0.19566698,  0.33007166, -0.0405533 ,\n",
       "       -0.41547892,  0.15760076, -0.09926245, -0.17178238, -0.24332288,\n",
       "       -0.37845021, -0.00233985,  0.43920325,  0.07154248,  0.2416987 ,\n",
       "        0.11525579, -0.31615171, -0.47883758, -0.03035118,  0.32135386,\n",
       "       -0.24540477, -0.06816715, -0.05843887, -0.07590927,  0.03744467,\n",
       "        0.0215593 , -0.18422036, -0.55791718,  0.04981818,  0.0591383 ,\n",
       "        0.0967698 ,  0.61547971,  0.3281638 ,  0.09772849, -0.10924962,\n",
       "       -0.11398881, -0.50676079,  0.1800657 , -0.01188587,  0.21178662,\n",
       "        0.22204398, -0.17860497,  0.31735677, -0.11349835, -0.20081114,\n",
       "       -0.03212048, -0.00754426, -0.0534155 ,  0.04913009,  0.52627601,\n",
       "       -0.05796556,  0.67340139,  0.20502589,  0.17036471, -0.10492046,\n",
       "        0.07917646,  0.091205  ,  0.04164898,  0.22988585,  0.4230981 ,\n",
       "       -0.16097769, -0.05991382, -0.07403765,  0.01217731,  0.52085666,\n",
       "        0.2058742 , -0.23614678,  0.12789715, -0.34122021,  0.089435  ])"
      ]
     },
     "execution_count": 22,
     "metadata": {},
     "output_type": "execute_result"
    },
    {
     "data": {
      "text/plain": [
       "array([-0.23349154, -0.10752046, -0.18829013,  0.12465786,  0.04499426,\n",
       "       -0.10158768,  0.07721341, -0.12193645, -0.07816347,  0.05514789,\n",
       "       -0.15364766, -0.05160591, -0.07482938,  0.13818035,  0.07107082,\n",
       "       -0.00827413,  0.05062207, -0.15552517,  0.13125717, -0.05500917,\n",
       "       -0.10188044,  0.00786229, -0.06934523,  0.05959464,  0.01207784,\n",
       "        0.02717798, -0.11194247, -0.08613137,  0.09008566, -0.09018366,\n",
       "        0.11341654, -0.03152109, -0.00588216, -0.03505405, -0.15362346,\n",
       "       -0.01766083, -0.14671806, -0.15279869,  0.08142475,  0.18177982,\n",
       "       -0.00818221, -0.00896668, -0.01900161, -0.00313903, -0.06722998,\n",
       "       -0.10687239,  0.03907944,  0.03649053, -0.16776036,  0.01887423,\n",
       "       -0.22633165, -0.08690503,  0.18870265, -0.09834788,  0.18109965,\n",
       "        0.03592259,  0.01272582, -0.04563561, -0.00713817,  0.16073653,\n",
       "       -0.03818392, -0.06979163, -0.00561799, -0.05748435, -0.18472525,\n",
       "       -0.11861946, -0.06291038,  0.0007617 , -0.04526208,  0.02546081,\n",
       "       -0.00662078,  0.03576209,  0.02175565,  0.04331935,  0.11917113,\n",
       "        0.02399039, -0.07011944,  0.02111152, -0.06152309,  0.121262  ,\n",
       "        0.03723896,  0.13795729,  0.06211487,  0.05703834,  0.01262561,\n",
       "       -0.00455201, -0.08276539, -0.01601276, -0.13239504,  0.10789731,\n",
       "        0.14844674, -0.00563287,  0.04882433, -0.01427228, -0.06113287,\n",
       "       -0.03759924, -0.05666581,  0.03410729,  0.19692224, -0.06824872])"
      ]
     },
     "execution_count": 22,
     "metadata": {},
     "output_type": "execute_result"
    },
    {
     "data": {
      "text/plain": [
       "array([-1.47938477,  0.23715196,  1.69082697, -0.43077748,  0.10860298,\n",
       "       -1.75841685,  0.53615146,  0.12318117,  0.55555523,  1.15782847,\n",
       "       -2.45385638, -0.39899096,  0.07086895, -1.67047627,  1.30653051,\n",
       "       -0.88387719,  0.4134757 , -0.23141595,  0.10518886,  0.29072381,\n",
       "        1.50387829, -1.23815594, -0.54052633,  0.02685583, -1.3116659 ,\n",
       "       -1.40329088, -1.34177299, -1.09315776,  0.95520505, -3.23962494,\n",
       "       -1.5459787 , -0.70076445, -0.45564615, -0.67506159, -0.90713559,\n",
       "        0.01133052,  1.21736876, -1.73667091, -2.20916583,  3.05359018,\n",
       "        2.09199753,  0.24029438,  1.96838814, -1.25619016,  0.36587438,\n",
       "        1.2539952 , -2.64426763, -1.03282896,  0.04691562, -1.47801049,\n",
       "       -2.61571221,  1.31502806,  1.56076348,  0.8650095 , -0.7000542 ,\n",
       "       -1.83858239,  0.64380385, -1.2880557 , -0.42921192, -0.53639096,\n",
       "       -0.10881515, -0.26331576, -0.04799107, -1.47919369,  0.65413308,\n",
       "       -2.90704072, -0.24776917, -0.67537653,  1.48053949,  1.96378372,\n",
       "       -0.81667912, -1.44319694, -0.08203042, -1.32329659, -2.25961929,\n",
       "       -3.94332869,  1.01414261, -0.55785423, -1.06676596,  1.27953544,\n",
       "       -0.6171287 ,  0.89379666,  3.58280935, -1.17218648,  1.23639221,\n",
       "       -2.23416938, -2.48290063,  1.24734305,  1.28415146,  0.5074848 ,\n",
       "       -1.18397565,  2.43128975, -0.35962245,  0.26943634,  0.43239781,\n",
       "       -2.27226366, -1.02178766, -0.11462841,  1.98663538,  0.36098475])"
      ]
     },
     "execution_count": 22,
     "metadata": {},
     "output_type": "execute_result"
    },
    {
     "data": {
      "text/html": [
       "<div>\n",
       "<style scoped>\n",
       "    .dataframe tbody tr th:only-of-type {\n",
       "        vertical-align: middle;\n",
       "    }\n",
       "\n",
       "    .dataframe tbody tr th {\n",
       "        vertical-align: top;\n",
       "    }\n",
       "\n",
       "    .dataframe thead th {\n",
       "        text-align: right;\n",
       "    }\n",
       "</style>\n",
       "<table border=\"1\" class=\"dataframe\">\n",
       "  <thead>\n",
       "    <tr style=\"text-align: right;\">\n",
       "      <th></th>\n",
       "      <th>x</th>\n",
       "      <th>y</th>\n",
       "      <th>y_more</th>\n",
       "      <th>y_less</th>\n",
       "    </tr>\n",
       "  </thead>\n",
       "  <tbody>\n",
       "    <tr>\n",
       "      <th>0</th>\n",
       "      <td>-1.133838</td>\n",
       "      <td>-1.540989</td>\n",
       "      <td>-3.046304</td>\n",
       "      <td>-1.800411</td>\n",
       "    </tr>\n",
       "    <tr>\n",
       "      <th>1</th>\n",
       "      <td>0.384319</td>\n",
       "      <td>-0.816218</td>\n",
       "      <td>-0.570688</td>\n",
       "      <td>-0.915361</td>\n",
       "    </tr>\n",
       "    <tr>\n",
       "      <th>2</th>\n",
       "      <td>1.496554</td>\n",
       "      <td>-0.082610</td>\n",
       "      <td>1.439104</td>\n",
       "      <td>-0.440013</td>\n",
       "    </tr>\n",
       "    <tr>\n",
       "      <th>3</th>\n",
       "      <td>-0.355382</td>\n",
       "      <td>-1.440753</td>\n",
       "      <td>-1.608469</td>\n",
       "      <td>-1.053033</td>\n",
       "    </tr>\n",
       "    <tr>\n",
       "      <th>4</th>\n",
       "      <td>-0.787534</td>\n",
       "      <td>-1.736758</td>\n",
       "      <td>-1.285164</td>\n",
       "      <td>-1.348773</td>\n",
       "    </tr>\n",
       "  </tbody>\n",
       "</table>\n",
       "</div>"
      ],
      "text/plain": [
       "          x         y    y_more    y_less\n",
       "0 -1.133838 -1.540989 -3.046304 -1.800411\n",
       "1  0.384319 -0.816218 -0.570688 -0.915361\n",
       "2  1.496554 -0.082610  1.439104 -0.440013\n",
       "3 -0.355382 -1.440753 -1.608469 -1.053033\n",
       "4 -0.787534 -1.736758 -1.285164 -1.348773"
      ]
     },
     "execution_count": 22,
     "metadata": {},
     "output_type": "execute_result"
    },
    {
     "data": {
      "text/plain": [
       "LinearRegression()"
      ]
     },
     "execution_count": 22,
     "metadata": {},
     "output_type": "execute_result"
    },
    {
     "name": "stdout",
     "output_type": "stream",
     "text": [
      "Q3.5 original: intercept =  -0.991562059471384\n",
      "Q3.5 original: slope =  [0.48035763]\n",
      "Q3.5 original: r-squared:  0.787\n"
     ]
    },
    {
     "data": {
      "text/plain": [
       "LinearRegression()"
      ]
     },
     "execution_count": 22,
     "metadata": {},
     "output_type": "execute_result"
    },
    {
     "name": "stdout",
     "output_type": "stream",
     "text": [
      "increasing noise model: intercept  =  [-1.25908175]\n",
      "increasing noise model: slope  =  [[0.46337344]]\n",
      "increasing noise model: r-squared  =  0.093\n"
     ]
    },
    {
     "data": {
      "text/plain": [
       "LinearRegression()"
      ]
     },
     "execution_count": 22,
     "metadata": {},
     "output_type": "execute_result"
    },
    {
     "name": "stdout",
     "output_type": "stream",
     "text": [
      "decreasing noise model: intercept =  [-1.01191157]\n",
      "decreasing noise model: slope =  [[0.49252415]]\n",
      "decreasing noise model: r-squared =  0.963\n"
     ]
    },
    {
     "data": {
      "image/png": "[encoded data removed]",
      "text/plain": [
       "<Figure size 432x288 with 1 Axes>"
      ]
     },
     "metadata": {
      "needs_background": "light"
     },
     "output_type": "display_data"
    }
   ],
   "source": [
    "# Recalculate using noise\n",
    "import numpy as np\n",
    "import seaborn as sns\n",
    "import matplotlib.pyplot as plt\n",
    "import pandas as pd\n",
    "from sklearn.linear_model import LinearRegression # Fit the model with sklearn package\n",
    "\n",
    "import warnings\n",
    "warnings.filterwarnings(\"ignore\")\n",
    "\n",
    "np.random.seed(111)\n",
    "\n",
    "mu=0\n",
    "n=100\n",
    "sigma_orig=1\n",
    "sigma_esp_orig=0.25\n",
    "sigma_less=0.1\n",
    "sigma_more=1.25\n",
    "\n",
    "\n",
    "x=np.random.normal(loc=mu,scale=sigma_orig,size=n)  # recalculating  Q3.1\n",
    "\n",
    "esp_orig=np.random.normal(loc=mu,scale=sigma_esp_orig,size=n)  # recalculating  Q3.2 sigma=0.25\n",
    "esp_orig\n",
    "\n",
    "esp_less=np.random.normal(loc=mu,scale=sigma_less,size=n) # Code for Q3.7 sigma=0.1\n",
    "esp_less\n",
    "\n",
    "esp_more=np.random.normal(loc=mu,scale=sigma_more,size=n) # Code for Q3.7 sigma=1.25\n",
    "esp_more\n",
    "\n",
    "y=-1 +(0.5*x)+esp_orig # recalculating  Q3.3\n",
    "\n",
    "y_more=-1 +(0.5*x)+esp_more\n",
    "\n",
    "y_less=-1 +(0.5*x)+esp_less\n",
    "\n",
    "\n",
    "#create a dataframe of the random values\n",
    "d_ = {'x': x,'y': y,\"y_more\":y_more, \"y_less\":y_less}\n",
    "df = pd.DataFrame(data=d_)\n",
    "df.head()\n",
    "\n",
    "X=df[[\"x\"]].values\n",
    "y_more=df[[\"y_more\"]].values\n",
    "y_less=df[[\"y_less\"]].values\n",
    "\n",
    "############ recalculating Q3.5 to compare esp sigma = 0.25 ##########################\n",
    "lr = LinearRegression() \n",
    "lr.fit(X, y)\n",
    "intercept_orig=lr.intercept_\n",
    "print(\"Q3.5 original: intercept = \",intercept_orig)\n",
    "slope_orig=lr.coef_\n",
    "print(\"Q3.5 original: slope = \",slope_orig)\n",
    "# Returns the R^2 which gives an idea about the goodness of fit:\n",
    "r_2_orig=round(lr.score(X, y),3)\n",
    "print(\"Q3.5 original: r-squared: \", r_2_orig)\n",
    "\n",
    "y_pred_orig=lr.predict(X)\n",
    "\n",
    "############ testing increasing noise by having esp sigma = 1.25 ##########################\n",
    "lr = LinearRegression() \n",
    "lr.fit(X, y_more)\n",
    "intercept_more=lr.intercept_\n",
    "print(\"increasing noise model: intercept  = \",intercept_more)\n",
    "slope_more=lr.coef_\n",
    "print(\"increasing noise model: slope  = \",slope_more)\n",
    "# Returns the R^2 which gives an idea about the goodness of fit:\n",
    "r_2_more=round(lr.score(X, y_more),3)\n",
    "print(\"increasing noise model: r-squared  = \", r_2_more)\n",
    "\n",
    "y_pred_more=lr.predict(X)\n",
    "\n",
    "############ testing decreasing noise by having sigma = 0.1 ##########################\n",
    "lr = LinearRegression() \n",
    "lr.fit(X, y_less)\n",
    "intercept_less=lr.intercept_\n",
    "print(\"decreasing noise model: intercept = \",intercept_less)\n",
    "slope_less=lr.coef_\n",
    "print(\"decreasing noise model: slope = \",slope_less)\n",
    "# Returns the R^2 which gives an idea about the goodness of fit:\n",
    "r_2_less=round(lr.score(X, y_less),3)\n",
    "print(\"decreasing noise model: r-squared = \", r_2_less)\n",
    "\n",
    "y_pred_less=lr.predict(X)\n",
    "\n",
    "_=plt.scatter(X, y, label='Random sample data', color=sns.color_palette('gray')[-1])\n",
    "_=plt.plot(X, y_pred, color='red', linewidth=3, label='Regression model original Q3.5: y=−0.99+0.48x, $R^2= %.3f$' % r_2)\n",
    "_=plt.plot(X, y_pred_less, color='green', linewidth=2, label='Regression model (decreasing noise): y=−1.01+0.49x, $R^2= %.3f$' % r_2_less)\n",
    "_=plt.plot(X, y_pred_more, color='yellow', linewidth=2, label='Regression model ( increasing noise): y=−1.25+0.46x, $R^2= %.3f$' % r_2_more)\n",
    "_=plt.legend(bbox_to_anchor=(1.04,0.5), loc=\"center left\")\n",
    "_=plt.xlabel('x')\n",
    "_=plt.ylabel('y')\n",
    "\n",
    "plt.show()"
   ]
  },
  {
   "cell_type": "markdown",
   "metadata": {},
   "source": [
    "**Slopes** maintains almost the same magnitude: for the original Q3.5 model (i.e., 𝜖 scale=0.25) slope=0.48. By increasing the noise (i.e., 𝜖 scale=1.25) slope=0.46 and by decreasing the noise (i.e., 𝜖 scale=0.1) slope= 0.49 \n",
    "\n",
    "**Intercepts** increased negatively slightly when the noise increased (i.e., 𝜖 scale=1.25), intercept=-1.26. The original Q3.5 model (i.e., 𝜖 scale=0.25) intercept=-0.99 and by decreasing noise (i.e., 𝜖 scale=0.1), intercept = -1.01 \n",
    "\n",
    "**R-squared** had the best fit for the decreased noise model, R^2=96.3%. Followed by original Q3.5 model (i.e., 𝜖 scale=0.25) R^2=78.7%. The worst R-squared was for the increased noise model (i.e., 𝜖 scale=1.25) where R^2=9.3% fitting the model"
   ]
  },
  {
   "cell_type": "code",
   "execution_count": null,
   "metadata": {},
   "outputs": [],
   "source": []
  }
 ],
 "metadata": {
  "colab": {
   "collapsed_sections": [],
   "name": "Assignment01.ipynb",
   "provenance": []
  },
  "kernelspec": {
   "display_name": "Python 3 (ipykernel)",
   "language": "python",
   "name": "python3"
  },
  "language_info": {
   "codemirror_mode": {
    "name": "ipython",
    "version": 3
   },
   "file_extension": ".py",
   "mimetype": "text/x-python",
   "name": "python",
   "nbconvert_exporter": "python",
   "pygments_lexer": "ipython3",
   "version": "3.8.5"
  }
 },
 "nbformat": 4,
 "nbformat_minor": 4
}
